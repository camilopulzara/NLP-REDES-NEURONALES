{
 "cells": [
  {
   "cell_type": "markdown",
   "metadata": {},
   "source": [
    "# Contextualización Ciencia de datos e inteligencia artificial.\n",
    "\n",
    "Autor              :, C.PULZARA \n",
    "#### Material Referencia: Ver bibliografía de presentación."
   ]
  },
  {
   "cell_type": "markdown",
   "metadata": {},
   "source": [
    "## Redes Neuronales usando librerías\n"
   ]
  },
  {
   "cell_type": "markdown",
   "metadata": {},
   "source": [
    "Que desarrollos nos facilitan construir modelos de redes neuronales?\n",
    "TensorFlow, Theano, Microsoft congnitive, Keras, pytorch..."
   ]
  },
  {
   "cell_type": "markdown",
   "metadata": {},
   "source": [
    "## Redes neuronales profundas\n"
   ]
  },
  {
   "cell_type": "code",
   "execution_count": 99,
   "metadata": {},
   "outputs": [
    {
     "data": {
      "text/html": [
       "<div>\n",
       "<style scoped>\n",
       "    .dataframe tbody tr th:only-of-type {\n",
       "        vertical-align: middle;\n",
       "    }\n",
       "\n",
       "    .dataframe tbody tr th {\n",
       "        vertical-align: top;\n",
       "    }\n",
       "\n",
       "    .dataframe thead th {\n",
       "        text-align: right;\n",
       "    }\n",
       "</style>\n",
       "<table border=\"1\" class=\"dataframe\">\n",
       "  <thead>\n",
       "    <tr style=\"text-align: right;\">\n",
       "      <th></th>\n",
       "      <th>RowNumber</th>\n",
       "      <th>CustomerId</th>\n",
       "      <th>Surname</th>\n",
       "      <th>CreditScore</th>\n",
       "      <th>Geography</th>\n",
       "      <th>Gender</th>\n",
       "      <th>Age</th>\n",
       "      <th>Tenure</th>\n",
       "      <th>Balance</th>\n",
       "      <th>NumOfProducts</th>\n",
       "      <th>HasCrCard</th>\n",
       "      <th>IsActiveMember</th>\n",
       "      <th>EstimatedSalary</th>\n",
       "      <th>Exited</th>\n",
       "    </tr>\n",
       "  </thead>\n",
       "  <tbody>\n",
       "    <tr>\n",
       "      <th>0</th>\n",
       "      <td>1</td>\n",
       "      <td>15634602</td>\n",
       "      <td>Hargrave</td>\n",
       "      <td>619</td>\n",
       "      <td>France</td>\n",
       "      <td>Female</td>\n",
       "      <td>42</td>\n",
       "      <td>2</td>\n",
       "      <td>0.00</td>\n",
       "      <td>1</td>\n",
       "      <td>1</td>\n",
       "      <td>1</td>\n",
       "      <td>101348.88</td>\n",
       "      <td>1</td>\n",
       "    </tr>\n",
       "    <tr>\n",
       "      <th>1</th>\n",
       "      <td>2</td>\n",
       "      <td>15647311</td>\n",
       "      <td>Hill</td>\n",
       "      <td>608</td>\n",
       "      <td>Spain</td>\n",
       "      <td>Female</td>\n",
       "      <td>41</td>\n",
       "      <td>1</td>\n",
       "      <td>83807.86</td>\n",
       "      <td>1</td>\n",
       "      <td>0</td>\n",
       "      <td>1</td>\n",
       "      <td>112542.58</td>\n",
       "      <td>0</td>\n",
       "    </tr>\n",
       "    <tr>\n",
       "      <th>2</th>\n",
       "      <td>3</td>\n",
       "      <td>15619304</td>\n",
       "      <td>Onio</td>\n",
       "      <td>502</td>\n",
       "      <td>France</td>\n",
       "      <td>Female</td>\n",
       "      <td>42</td>\n",
       "      <td>8</td>\n",
       "      <td>159660.80</td>\n",
       "      <td>3</td>\n",
       "      <td>1</td>\n",
       "      <td>0</td>\n",
       "      <td>113931.57</td>\n",
       "      <td>1</td>\n",
       "    </tr>\n",
       "    <tr>\n",
       "      <th>3</th>\n",
       "      <td>4</td>\n",
       "      <td>15701354</td>\n",
       "      <td>Boni</td>\n",
       "      <td>699</td>\n",
       "      <td>France</td>\n",
       "      <td>Female</td>\n",
       "      <td>39</td>\n",
       "      <td>1</td>\n",
       "      <td>0.00</td>\n",
       "      <td>2</td>\n",
       "      <td>0</td>\n",
       "      <td>0</td>\n",
       "      <td>93826.63</td>\n",
       "      <td>0</td>\n",
       "    </tr>\n",
       "    <tr>\n",
       "      <th>4</th>\n",
       "      <td>5</td>\n",
       "      <td>15737888</td>\n",
       "      <td>Mitchell</td>\n",
       "      <td>850</td>\n",
       "      <td>Spain</td>\n",
       "      <td>Female</td>\n",
       "      <td>43</td>\n",
       "      <td>2</td>\n",
       "      <td>125510.82</td>\n",
       "      <td>1</td>\n",
       "      <td>1</td>\n",
       "      <td>1</td>\n",
       "      <td>79084.10</td>\n",
       "      <td>0</td>\n",
       "    </tr>\n",
       "    <tr>\n",
       "      <th>...</th>\n",
       "      <td>...</td>\n",
       "      <td>...</td>\n",
       "      <td>...</td>\n",
       "      <td>...</td>\n",
       "      <td>...</td>\n",
       "      <td>...</td>\n",
       "      <td>...</td>\n",
       "      <td>...</td>\n",
       "      <td>...</td>\n",
       "      <td>...</td>\n",
       "      <td>...</td>\n",
       "      <td>...</td>\n",
       "      <td>...</td>\n",
       "      <td>...</td>\n",
       "    </tr>\n",
       "    <tr>\n",
       "      <th>9995</th>\n",
       "      <td>9996</td>\n",
       "      <td>15606229</td>\n",
       "      <td>Obijiaku</td>\n",
       "      <td>771</td>\n",
       "      <td>France</td>\n",
       "      <td>Male</td>\n",
       "      <td>39</td>\n",
       "      <td>5</td>\n",
       "      <td>0.00</td>\n",
       "      <td>2</td>\n",
       "      <td>1</td>\n",
       "      <td>0</td>\n",
       "      <td>96270.64</td>\n",
       "      <td>0</td>\n",
       "    </tr>\n",
       "    <tr>\n",
       "      <th>9996</th>\n",
       "      <td>9997</td>\n",
       "      <td>15569892</td>\n",
       "      <td>Johnstone</td>\n",
       "      <td>516</td>\n",
       "      <td>France</td>\n",
       "      <td>Male</td>\n",
       "      <td>35</td>\n",
       "      <td>10</td>\n",
       "      <td>57369.61</td>\n",
       "      <td>1</td>\n",
       "      <td>1</td>\n",
       "      <td>1</td>\n",
       "      <td>101699.77</td>\n",
       "      <td>0</td>\n",
       "    </tr>\n",
       "    <tr>\n",
       "      <th>9997</th>\n",
       "      <td>9998</td>\n",
       "      <td>15584532</td>\n",
       "      <td>Liu</td>\n",
       "      <td>709</td>\n",
       "      <td>France</td>\n",
       "      <td>Female</td>\n",
       "      <td>36</td>\n",
       "      <td>7</td>\n",
       "      <td>0.00</td>\n",
       "      <td>1</td>\n",
       "      <td>0</td>\n",
       "      <td>1</td>\n",
       "      <td>42085.58</td>\n",
       "      <td>1</td>\n",
       "    </tr>\n",
       "    <tr>\n",
       "      <th>9998</th>\n",
       "      <td>9999</td>\n",
       "      <td>15682355</td>\n",
       "      <td>Sabbatini</td>\n",
       "      <td>772</td>\n",
       "      <td>Germany</td>\n",
       "      <td>Male</td>\n",
       "      <td>42</td>\n",
       "      <td>3</td>\n",
       "      <td>75075.31</td>\n",
       "      <td>2</td>\n",
       "      <td>1</td>\n",
       "      <td>0</td>\n",
       "      <td>92888.52</td>\n",
       "      <td>1</td>\n",
       "    </tr>\n",
       "    <tr>\n",
       "      <th>9999</th>\n",
       "      <td>10000</td>\n",
       "      <td>15628319</td>\n",
       "      <td>Walker</td>\n",
       "      <td>792</td>\n",
       "      <td>France</td>\n",
       "      <td>Female</td>\n",
       "      <td>28</td>\n",
       "      <td>4</td>\n",
       "      <td>130142.79</td>\n",
       "      <td>1</td>\n",
       "      <td>1</td>\n",
       "      <td>0</td>\n",
       "      <td>38190.78</td>\n",
       "      <td>0</td>\n",
       "    </tr>\n",
       "  </tbody>\n",
       "</table>\n",
       "<p>10000 rows × 14 columns</p>\n",
       "</div>"
      ],
      "text/plain": [
       "      RowNumber  CustomerId    Surname  CreditScore Geography  Gender  Age  \\\n",
       "0             1    15634602   Hargrave          619    France  Female   42   \n",
       "1             2    15647311       Hill          608     Spain  Female   41   \n",
       "2             3    15619304       Onio          502    France  Female   42   \n",
       "3             4    15701354       Boni          699    France  Female   39   \n",
       "4             5    15737888   Mitchell          850     Spain  Female   43   \n",
       "...         ...         ...        ...          ...       ...     ...  ...   \n",
       "9995       9996    15606229   Obijiaku          771    France    Male   39   \n",
       "9996       9997    15569892  Johnstone          516    France    Male   35   \n",
       "9997       9998    15584532        Liu          709    France  Female   36   \n",
       "9998       9999    15682355  Sabbatini          772   Germany    Male   42   \n",
       "9999      10000    15628319     Walker          792    France  Female   28   \n",
       "\n",
       "      Tenure    Balance  NumOfProducts  HasCrCard  IsActiveMember  \\\n",
       "0          2       0.00              1          1               1   \n",
       "1          1   83807.86              1          0               1   \n",
       "2          8  159660.80              3          1               0   \n",
       "3          1       0.00              2          0               0   \n",
       "4          2  125510.82              1          1               1   \n",
       "...      ...        ...            ...        ...             ...   \n",
       "9995       5       0.00              2          1               0   \n",
       "9996      10   57369.61              1          1               1   \n",
       "9997       7       0.00              1          0               1   \n",
       "9998       3   75075.31              2          1               0   \n",
       "9999       4  130142.79              1          1               0   \n",
       "\n",
       "      EstimatedSalary  Exited  \n",
       "0           101348.88       1  \n",
       "1           112542.58       0  \n",
       "2           113931.57       1  \n",
       "3            93826.63       0  \n",
       "4            79084.10       0  \n",
       "...               ...     ...  \n",
       "9995         96270.64       0  \n",
       "9996        101699.77       0  \n",
       "9997         42085.58       1  \n",
       "9998         92888.52       1  \n",
       "9999         38190.78       0  \n",
       "\n",
       "[10000 rows x 14 columns]"
      ]
     },
     "execution_count": 99,
     "metadata": {},
     "output_type": "execute_result"
    }
   ],
   "source": [
    "# Modelo: Estimar el posible abandono de un cliente bancario\n",
    "# importando librerías\n",
    "import numpy as np\n",
    "import matplotlib.pyplot as plt\n",
    "import pandas as pd\n",
    "\n",
    "# Importando base de datos\n",
    "dataset = pd.read_csv('Churn_Modelling.csv')\n",
    "dataset"
   ]
  },
  {
   "cell_type": "code",
   "execution_count": 100,
   "metadata": {},
   "outputs": [
    {
     "data": {
      "text/plain": [
       "array([[619, 'France', 'Female', ..., 1, 1, 101348.88],\n",
       "       [608, 'Spain', 'Female', ..., 0, 1, 112542.58],\n",
       "       [502, 'France', 'Female', ..., 1, 0, 113931.57],\n",
       "       ...,\n",
       "       [709, 'France', 'Female', ..., 0, 1, 42085.58],\n",
       "       [772, 'Germany', 'Male', ..., 1, 0, 92888.52],\n",
       "       [792, 'France', 'Female', ..., 1, 0, 38190.78]], dtype=object)"
      ]
     },
     "execution_count": 100,
     "metadata": {},
     "output_type": "execute_result"
    }
   ],
   "source": [
    "# Variables relevantes (características) y conclusión de abandono (clase)\n",
    "\n",
    "X = dataset.iloc[:, 3:13].values\n",
    "Y = dataset.iloc[:, 13].values\n",
    "\n",
    "# note que las columnas iniciales 4 y 5 son categóricas (Geography, Gender), para la nueva asignación (X) son las columnas  índice 1 y 2\n",
    "\n",
    "X\n"
   ]
  },
  {
   "cell_type": "code",
   "execution_count": 101,
   "metadata": {},
   "outputs": [
    {
     "name": "stdout",
     "output_type": "stream",
     "text": [
      "(10000, 10)\n",
      "(10000,)\n"
     ]
    }
   ],
   "source": [
    "print(X.shape)\n",
    "print(Y.shape)"
   ]
  },
  {
   "cell_type": "code",
   "execution_count": 102,
   "metadata": {},
   "outputs": [
    {
     "data": {
      "text/plain": [
       "array([[619, 0, 0, ..., 1, 1, 101348.88],\n",
       "       [608, 2, 0, ..., 0, 1, 112542.58],\n",
       "       [502, 0, 0, ..., 1, 0, 113931.57],\n",
       "       ...,\n",
       "       [709, 0, 0, ..., 0, 1, 42085.58],\n",
       "       [772, 1, 1, ..., 1, 0, 92888.52],\n",
       "       [792, 0, 0, ..., 1, 0, 38190.78]], dtype=object)"
      ]
     },
     "execution_count": 102,
     "metadata": {},
     "output_type": "execute_result"
    }
   ],
   "source": [
    "# manejo de categóricos como características\n",
    "from sklearn.preprocessing import LabelEncoder  #(categórico como entero) Note Que se está usando un preprocesamiento sugerido para clases no para características\n",
    "labelencoder_X_1 = LabelEncoder() \n",
    "X[:,1] = labelencoder_X_1.fit_transform(X[:,1]) \n",
    "labelencoder_X_2 = LabelEncoder() \n",
    "X[:, 2] = labelencoder_X_2.fit_transform(X[:, 2])\n",
    "X\n",
    "# si es necesario se transforma el entero de País en una matriz binaria (mejoras a los modelos posibles) Onehotencoder"
   ]
  },
  {
   "cell_type": "code",
   "execution_count": 103,
   "metadata": {},
   "outputs": [
    {
     "data": {
      "text/plain": [
       "array([0, 1, 2])"
      ]
     },
     "execution_count": 103,
     "metadata": {},
     "output_type": "execute_result"
    }
   ],
   "source": [
    "labelencoder_X_1.transform(['France', 'Germany', 'Spain'])"
   ]
  },
  {
   "cell_type": "code",
   "execution_count": 104,
   "metadata": {},
   "outputs": [],
   "source": [
    "# división de datos para entrenamiento y prueba\n",
    "from sklearn.model_selection import train_test_split\n",
    "X_train, X_test, y_train, y_test = train_test_split(X, Y, test_size = 0.2)"
   ]
  },
  {
   "cell_type": "code",
   "execution_count": 105,
   "metadata": {},
   "outputs": [],
   "source": [
    "# reescalando las características\n",
    "from sklearn.preprocessing import StandardScaler \n",
    "sc = StandardScaler() \n",
    "X_train = sc.fit_transform(X_train) \n",
    "X_test = sc.transform(X_test)"
   ]
  },
  {
   "cell_type": "code",
   "execution_count": 106,
   "metadata": {},
   "outputs": [
    {
     "data": {
      "text/plain": [
       "array([9.39279023e+03, 6.80536234e-01, 2.48107750e-01, 1.10263720e+02,\n",
       "       8.41069961e+00, 3.88506440e+09, 3.43249859e-01, 2.07306109e-01,\n",
       "       2.49744000e-01, 3.31584964e+09])"
      ]
     },
     "execution_count": 106,
     "metadata": {},
     "output_type": "execute_result"
    }
   ],
   "source": [
    "sc.var_"
   ]
  },
  {
   "cell_type": "code",
   "execution_count": 107,
   "metadata": {},
   "outputs": [],
   "source": [
    "# Cargado de arquitectura de redes con Keras \n",
    "import keras \n",
    "from keras.models import Sequential \n",
    "from keras.layers import Dense"
   ]
  },
  {
   "cell_type": "code",
   "execution_count": 108,
   "metadata": {},
   "outputs": [],
   "source": [
    "# inicializa modelo de datos, en este caso red Sequential, es decir red neuronal de arquitectura secuencial\n",
    "classifier = Sequential()"
   ]
  },
  {
   "cell_type": "code",
   "execution_count": 109,
   "metadata": {},
   "outputs": [
    {
     "data": {
      "text/plain": [
       "'\\nDense implementa la operación  output = activation(dot(input, kernel) + bias), donde kernel son los pesos de las matrices\\ninput las variables de entradas y bias la variable vector independiente\\n\\nAlguno de los parámetros son:\\n\\nunits\\nNúmero de unidades o neuronas en la capa de salida\\n\\nactivation \\nTipo de función de activación a emplear (https://www.tensorflow.org/api_docs/python/tf/keras/activations)\\n\\nuse_bias\\nActiva en True, el uso del vector bias o variables independientes\\n\\nkernel_initializer \\nTipo de inicializador en los pesos del kernel\\n\\nbias_initializer\\ntipo de inicializador de vector variables independientes.\\n\\nkernel_regularizer\\nFunción regularizadora para los pesos de la matriz de la RN\\n\\nbias_regularizer represents the regularizer function to be applied to the bias vector.\\n\\nactivity_regularizer \\nRegulariza el resultado de salida en la capa.\\n\\nkernel_constraint \\nfunción de restricción a los pesos de la capa.\\n\\nbias_constraint \\nfunción de restrucción a los bias de la capa.\\n\\n\\n\\nOtra forma más actual (2023)\\n\\nmodel = Sequential() \\nlayer_1 = Dense(16, input_shape = (8,))\\nmodel.add(layer_1)\\nlayer_1.input_shape #  8 entradas\\n    (None, 8) \\nlayer_1.output_shape  # 16 salidas\\n    (None, 16)\\n\\nNote la necesidad de incluir en el modelo la capa, de otra forma queda desconectada y presentará error\\n\\n\\n'"
      ]
     },
     "execution_count": 109,
     "metadata": {},
     "output_type": "execute_result"
    }
   ],
   "source": [
    "# Primera capa, capa de entrada con método Dense, no obstante esta arquitectura y su orden se arma mediante el método add\n",
    "# Otras formas de estructurar la arquitectura de la DNN, depende mucho de la versión y la librería de AA empleada\n",
    "\n",
    "\n",
    "# capa de entrada :: Es la única capa que define las variables de entrada (10 entradas)\n",
    "classifier.add(Dense(units = 6, kernel_initializer = 'uniform', activation = 'relu', input_dim = 10)) # pesos 10 @ 6\n",
    "\n",
    "\"\"\"\n",
    "Dense implementa la operación  output = activation(dot(input, kernel) + bias), donde kernel son los pesos de las matrices\n",
    "input las variables de entradas y bias la variable vector independiente\n",
    "\n",
    "Alguno de los parámetros son:\n",
    "\n",
    "units\n",
    "Número de unidades o neuronas en la capa de salida\n",
    "\n",
    "activation \n",
    "Tipo de función de activación a emplear (https://www.tensorflow.org/api_docs/python/tf/keras/activations)\n",
    "\n",
    "use_bias\n",
    "Activa en True, el uso del vector bias o variables independientes\n",
    "\n",
    "kernel_initializer \n",
    "Tipo de inicializador en los pesos del kernel\n",
    "\n",
    "bias_initializer\n",
    "tipo de inicializador de vector variables independientes.\n",
    "\n",
    "kernel_regularizer\n",
    "Función regularizadora para los pesos de la matriz de la RN\n",
    "\n",
    "bias_regularizer represents the regularizer function to be applied to the bias vector.\n",
    "\n",
    "activity_regularizer \n",
    "Regulariza el resultado de salida en la capa.\n",
    "\n",
    "kernel_constraint \n",
    "función de restricción a los pesos de la capa.\n",
    "\n",
    "bias_constraint \n",
    "función de restrucción a los bias de la capa.\n",
    "\n",
    "\n",
    "\n",
    "Otra forma más actual (2023)\n",
    "\n",
    "model = Sequential() \n",
    "layer_1 = Dense(16, input_shape = (8,))\n",
    "model.add(layer_1)\n",
    "layer_1.input_shape #  8 entradas\n",
    "    (None, 8) \n",
    "layer_1.output_shape  # 16 salidas\n",
    "    (None, 16)\n",
    "\n",
    "Note la necesidad de incluir en el modelo la capa, de otra forma queda desconectada y presentará error\n",
    "\n",
    "\n",
    "\"\"\""
   ]
  },
  {
   "cell_type": "code",
   "execution_count": 110,
   "metadata": {},
   "outputs": [],
   "source": [
    "# Segunda capa oculta\n",
    "classifier.add(Dense(units = 6, kernel_initializer = 'uniform', activation = 'relu'))   # recibe 6 neuronas y entrega 6"
   ]
  },
  {
   "cell_type": "code",
   "execution_count": 111,
   "metadata": {},
   "outputs": [],
   "source": [
    "# Tercera capa, capa de salida para simplificar\n",
    "classifier.add(Dense(units = 1, kernel_initializer = 'uniform', activation = 'sigmoid')) # recibe 6 y entrega 1"
   ]
  },
  {
   "cell_type": "code",
   "execution_count": 112,
   "metadata": {},
   "outputs": [
    {
     "name": "stdout",
     "output_type": "stream",
     "text": [
      "Model: \"sequential_7\"\n",
      "_________________________________________________________________\n",
      " Layer (type)                Output Shape              Param #   \n",
      "=================================================================\n",
      " dense_13 (Dense)            (None, 6)                 66        \n",
      "                                                                 \n",
      " dense_14 (Dense)            (None, 6)                 42        \n",
      "                                                                 \n",
      " dense_15 (Dense)            (None, 1)                 7         \n",
      "                                                                 \n",
      "=================================================================\n",
      "Total params: 115 (460.00 Byte)\n",
      "Trainable params: 115 (460.00 Byte)\n",
      "Non-trainable params: 0 (0.00 Byte)\n",
      "_________________________________________________________________\n"
     ]
    }
   ],
   "source": [
    "# Compilación de la red neuronal\n",
    "# https://www.tutorialspoint.com/keras/keras_model_compilation.htm\n",
    "# https://keras.io/api/models/model_training_apis/\n",
    "\n",
    "classifier.compile(optimizer = 'adam', loss = 'binary_crossentropy', metrics = ['accuracy'])\n",
    "\n",
    "classifier.summary()  # con este se ve la arquitectura montada\n",
    "\n",
    "# Entre sus argumentos destaca\n",
    "# Optimizer. \n",
    "# Este es el algoritmo utilizado para encontrar el conjunto óptimo de ponderaciones (pesos de las matrices). SGD, adam, adagrad, rmsprop, ... \n",
    "# \n",
    "# loss\n",
    "# Función de pérdida o función de minimización empleada en la optimización. \n",
    "# https://www.tensorflow.org/api_docs/python/tf/keras/losses; binary_crossentropy, categorical_crossentropy:\n",
    "# Si nuestra variable dependiente es binaria, usamos la función de pérdida logarítmica llamada “binary_crossentropy”, \n",
    "# y si nuestra variable dependiente tiene más de dos categorías en la salida, entonces usamos “categorical_crossentropy”. \n",
    "\n",
    "# metrics\n",
    "# Función que evalúa el desempeño de aciertos del modelo de  diseñado, se usa pos-entrenamiento.\n",
    "# https://www.tensorflow.org/api_docs/python/tf/keras/metrics\n"
   ]
  },
  {
   "cell_type": "code",
   "execution_count": 113,
   "metadata": {},
   "outputs": [
    {
     "name": "stdout",
     "output_type": "stream",
     "text": [
      "Epoch 1/5\n",
      "800/800 [==============================] - 1s 1ms/step - loss: 0.4999 - accuracy: 0.7962\n",
      "Epoch 2/5\n",
      "800/800 [==============================] - 1s 1ms/step - loss: 0.4311 - accuracy: 0.7970\n",
      "Epoch 3/5\n",
      "800/800 [==============================] - 1s 1ms/step - loss: 0.4255 - accuracy: 0.7970\n",
      "Epoch 4/5\n",
      "800/800 [==============================] - 1s 1ms/step - loss: 0.4219 - accuracy: 0.8071\n",
      "Epoch 5/5\n",
      "800/800 [==============================] - 1s 1ms/step - loss: 0.4189 - accuracy: 0.8261\n"
     ]
    },
    {
     "data": {
      "text/plain": [
       "<keras.src.callbacks.History at 0x1b69b7d8e20>"
      ]
     },
     "execution_count": 113,
     "metadata": {},
     "output_type": "execute_result"
    }
   ],
   "source": [
    "# Entrenamiento (ajuste pesos) de la arquitectura implementada con las funciones de optimización dadas.\n",
    "classifier.fit(X_train, y_train, batch_size = 10, epochs = 5)\n",
    "\n",
    "# Se destaca:\n",
    "# X_train para caracerísticas y y_train para las clases. \n",
    "# batch_size\n",
    "# número de datos en forma de paquete del conjunto total de datos para ser ingresados a la RN en cada interación\n",
    "# epochs\n",
    "# Número de veces en que se pasan todos los datos dispónibles de entremiento por la red neutronal\n",
    "# \n",
    "# Para este ejemplo, el tamaño del lote es el número de observaciones después de lo cual actualizamos los pesos, \n",
    "# es decir pasan 10 datos y actualiza pesos, como entran de a 10 datos se tiene que recorrer 800 paquetes \n",
    "# para completar los 8000 del conjunto total de datos, teniendo barrido solo una época\n",
    "# Época es el número total de iteraciones, es decir la cantidad de veces que se pasan los 8000 datos a la red, para ajustar pesos\n",
    "# Los valores de tamaño de lote y época se eligen mediante el método de prueba y error.\n",
    "\n"
   ]
  },
  {
   "cell_type": "code",
   "execution_count": 114,
   "metadata": {},
   "outputs": [
    {
     "name": "stdout",
     "output_type": "stream",
     "text": [
      "63/63 [==============================] - 0s 913us/step\n"
     ]
    },
    {
     "data": {
      "text/plain": [
       "array([[False],\n",
       "       [False],\n",
       "       [False],\n",
       "       ...,\n",
       "       [False],\n",
       "       [False],\n",
       "       [False]])"
      ]
     },
     "execution_count": 114,
     "metadata": {},
     "output_type": "execute_result"
    }
   ],
   "source": [
    "# las predicciones es un porcentaje de abandono, dado que la última capa empleó una sigmoide, donde 0 no abandona y 1 abandona 100%\n",
    "y_pred = classifier.predict(X_test)\n",
    "y_pred = (y_pred > 0.5)\n",
    "y_pred\n",
    "\n",
    "# note que los valores de entrada son datos escalados como se requiere para el entrenamiento\n",
    "# Para este caso se asume que si la probaiblibdad supera el 50%, se considera un abandono"
   ]
  },
  {
   "cell_type": "code",
   "execution_count": 115,
   "metadata": {},
   "outputs": [
    {
     "data": {
      "text/plain": [
       "array([[1570,   17],\n",
       "       [ 344,   69]], dtype=int64)"
      ]
     },
     "execution_count": 115,
     "metadata": {},
     "output_type": "execute_result"
    }
   ],
   "source": [
    "from sklearn.metrics import confusion_matrix\n",
    "cm = confusion_matrix(y_test, y_pred)\n",
    "# '''            Actual values\n",
    "    \n",
    "#     predicted values  TP    FP\n",
    "#                        FN    TN\n",
    "# '''\n",
    "cm\n"
   ]
  },
  {
   "cell_type": "code",
   "execution_count": 116,
   "metadata": {},
   "outputs": [
    {
     "name": "stdout",
     "output_type": "stream",
     "text": [
      "1/1 [==============================] - 0s 17ms/step\n",
      "[[False]]\n"
     ]
    },
    {
     "data": {
      "text/plain": [
       "1"
      ]
     },
     "execution_count": 116,
     "metadata": {},
     "output_type": "execute_result"
    }
   ],
   "source": [
    "# Predicción de un registro\n",
    "new_prediction = classifier.predict(sc.transform(np.array([X[2,:]])))\n",
    "new_prediction = (new_prediction > 0.5)\n",
    "print(new_prediction)\n",
    "Y[2]"
   ]
  },
  {
   "cell_type": "code",
   "execution_count": null,
   "metadata": {},
   "outputs": [],
   "source": [
    "# Persistencia de modelo o guardado de modelo\n",
    "\"\"\" \n",
    "Para modelos de sklearn se puede usar joblib\n",
    "\n",
    "Sea clf un modelo clasificador previamente ajustado\n",
    "from sklearn.externals import joblib\n",
    "joblib.dump(clf, \"path con nombre Modelo Guardado SKLEARN.pkl\")\n",
    "\n",
    "según versiones puede funcionar simplemente\n",
    "import joblib\n",
    "\n",
    "\n",
    "para usarlo el modelo de librería serializado (pickle, se emplea load\n",
    "https://scikit-learn.org/stable/model_persistence.html\n",
    "\n",
    "clf = joblib.load(\"path con nombre Modelo Guardado SKLEARN.pkl\")\n",
    "\n",
    "luego se puede usar\n",
    "\n",
    "clf.score(datos a probar, resultados esperados)  para ver si el rendimiento es bueno\n",
    "\n",
    "Lo anterior aplica para el guardado de modelos de ML y transformaciones tales como preprocesamientos\n",
    "\n",
    "\"\"\""
   ]
  },
  {
   "cell_type": "code",
   "execution_count": null,
   "metadata": {},
   "outputs": [],
   "source": [
    "# Persistencia de modelo o guardado de modelo\n",
    "\"\"\"\n",
    "https://www.tensorflow.org/guide/keras/save_and_serialize\n",
    "https://keras.io/api/models/model_saving_apis/\n",
    "\n",
    "Para Salvar modelos en Keras se procede:\n",
    "\n",
    "model.save(\"path con nombre de archivo, no va con extensión en caso de ser Tensorflow o bien h5 para HDF5\")\n",
    "\n",
    "# para cargar el modelo guardado\n",
    "clf = keras.models.load_model(\"path del archivo modelo guardado sin extensión\")\n",
    "\n",
    "# Para ver arquitectura \n",
    "clf.summary()\n",
    "\"\"\""
   ]
  },
  {
   "cell_type": "code",
   "execution_count": 117,
   "metadata": {},
   "outputs": [
    {
     "name": "stdout",
     "output_type": "stream",
     "text": [
      "INFO:tensorflow:Assets written to: ModeloAbandonoCliente\\assets\n"
     ]
    },
    {
     "name": "stderr",
     "output_type": "stream",
     "text": [
      "INFO:tensorflow:Assets written to: ModeloAbandonoCliente\\assets\n"
     ]
    }
   ],
   "source": [
    "classifier.save(\"ModeloAbandonoCliente\") # sin formato genera una carpeta, en cambio con h5 genera un único archivo\n",
    "# 'tf' en TF 2.X, y  'h5' en TF 1.X"
   ]
  },
  {
   "cell_type": "code",
   "execution_count": 118,
   "metadata": {},
   "outputs": [
    {
     "name": "stdout",
     "output_type": "stream",
     "text": [
      "Model: \"sequential_7\"\n",
      "_________________________________________________________________\n",
      " Layer (type)                Output Shape              Param #   \n",
      "=================================================================\n",
      " dense_13 (Dense)            (None, 6)                 66        \n",
      "                                                                 \n",
      " dense_14 (Dense)            (None, 6)                 42        \n",
      "                                                                 \n",
      " dense_15 (Dense)            (None, 1)                 7         \n",
      "                                                                 \n",
      "=================================================================\n",
      "Total params: 115 (460.00 Byte)\n",
      "Trainable params: 115 (460.00 Byte)\n",
      "Non-trainable params: 0 (0.00 Byte)\n",
      "_________________________________________________________________\n"
     ]
    }
   ],
   "source": [
    "clf = keras.models.load_model(\"ModeloAbandonoCliente\")\n",
    "\n",
    "# Para ver arquitectura \n",
    "clf.summary()"
   ]
  },
  {
   "cell_type": "code",
   "execution_count": null,
   "metadata": {},
   "outputs": [],
   "source": [
    "# Persistencia de modelo o guardado de modelo cada cierto batch size o época\n",
    "\"\"\"\n",
    "Para lo anterior se procede a crear archivos de extensión *.ckpt\n",
    "\n",
    "checkpoint_path = \"path.ckpt\"\n",
    "\n",
    "crea un llamador de salvado de pesos \n",
    "https://www.tensorflow.org/api_docs/python/tf/keras/callbacks/ModelCheckpoint\n",
    "\n",
    "cp_callback = tf.keras.callbacks.ModelCheckpoint(filepath = checkpoint_path, save_weights_only = True, verbose = 1)\n",
    "Verbose = 1 presenta mensajes a cada despliegue o entrenamiento del modelo\n",
    "\n",
    "# se entrena modelo con pesos\n",
    "model.fit(train_images, train_labels, epochs = 10, validation_data = (test_images, test_labels), callbacks = [cp_callback])\n",
    "\n",
    "\n",
    "# para cargar los pesos\n",
    "# crea y compila un nuevo modelo y luego le carga pesos\n",
    "\n",
    "model.load_weights(checkpoint_path)\n",
    "\n",
    "\"\"\""
   ]
  },
  {
   "cell_type": "code",
   "execution_count": 120,
   "metadata": {},
   "outputs": [
    {
     "name": "stdout",
     "output_type": "stream",
     "text": [
      "WARNING:tensorflow:`period` argument is deprecated. Please use `save_freq` to specify the frequency in number of batches seen.\n"
     ]
    },
    {
     "name": "stderr",
     "output_type": "stream",
     "text": [
      "WARNING:tensorflow:`period` argument is deprecated. Please use `save_freq` to specify the frequency in number of batches seen.\n"
     ]
    },
    {
     "name": "stdout",
     "output_type": "stream",
     "text": [
      "Epoch 1/50\n",
      "800/800 [==============================] - 2s 2ms/step - loss: 0.4966 - accuracy: 0.7966 - val_loss: 0.4395 - val_accuracy: 0.7935\n",
      "Epoch 2/50\n",
      "800/800 [==============================] - 1s 1ms/step - loss: 0.4339 - accuracy: 0.7970 - val_loss: 0.4370 - val_accuracy: 0.7935\n",
      "Epoch 3/50\n",
      "800/800 [==============================] - 1s 1ms/step - loss: 0.4304 - accuracy: 0.7970 - val_loss: 0.4324 - val_accuracy: 0.7935\n",
      "Epoch 4/50\n",
      "800/800 [==============================] - 1s 1ms/step - loss: 0.4261 - accuracy: 0.7970 - val_loss: 0.4264 - val_accuracy: 0.7935\n",
      "Epoch 5/50\n",
      "782/800 [============================>.] - ETA: 0s - loss: 0.4228 - accuracy: 0.8104\n",
      "Epoch 5: saving model to ./CheckPoints\\cp-0005.ckpt\n",
      "800/800 [==============================] - 1s 2ms/step - loss: 0.4224 - accuracy: 0.8105 - val_loss: 0.4254 - val_accuracy: 0.8160\n",
      "Epoch 6/50\n",
      "800/800 [==============================] - 1s 1ms/step - loss: 0.4189 - accuracy: 0.8254 - val_loss: 0.4232 - val_accuracy: 0.8210\n",
      "Epoch 7/50\n",
      "800/800 [==============================] - 1s 1ms/step - loss: 0.4170 - accuracy: 0.8291 - val_loss: 0.4214 - val_accuracy: 0.8230\n",
      "Epoch 8/50\n",
      "800/800 [==============================] - 1s 1ms/step - loss: 0.4155 - accuracy: 0.8317 - val_loss: 0.4207 - val_accuracy: 0.8230\n",
      "Epoch 9/50\n",
      "800/800 [==============================] - 1s 1ms/step - loss: 0.4133 - accuracy: 0.8336 - val_loss: 0.4188 - val_accuracy: 0.8230\n",
      "Epoch 10/50\n",
      "777/800 [============================>.] - ETA: 0s - loss: 0.4128 - accuracy: 0.8344\n",
      "Epoch 10: saving model to ./CheckPoints\\cp-0010.ckpt\n",
      "800/800 [==============================] - 1s 2ms/step - loss: 0.4116 - accuracy: 0.8342 - val_loss: 0.4180 - val_accuracy: 0.8245\n",
      "Epoch 11/50\n",
      "800/800 [==============================] - 1s 1ms/step - loss: 0.4105 - accuracy: 0.8353 - val_loss: 0.4158 - val_accuracy: 0.8225\n",
      "Epoch 12/50\n",
      "800/800 [==============================] - 1s 1ms/step - loss: 0.4091 - accuracy: 0.8355 - val_loss: 0.4172 - val_accuracy: 0.8270\n",
      "Epoch 13/50\n",
      "800/800 [==============================] - 1s 1ms/step - loss: 0.4077 - accuracy: 0.8361 - val_loss: 0.4153 - val_accuracy: 0.8265\n",
      "Epoch 14/50\n",
      "800/800 [==============================] - 1s 1ms/step - loss: 0.4066 - accuracy: 0.8357 - val_loss: 0.4200 - val_accuracy: 0.8255\n",
      "Epoch 15/50\n",
      "787/800 [============================>.] - ETA: 0s - loss: 0.4061 - accuracy: 0.8367\n",
      "Epoch 15: saving model to ./CheckPoints\\cp-0015.ckpt\n",
      "800/800 [==============================] - 1s 2ms/step - loss: 0.4060 - accuracy: 0.8369 - val_loss: 0.4127 - val_accuracy: 0.8305\n",
      "Epoch 16/50\n",
      "800/800 [==============================] - 1s 1ms/step - loss: 0.4049 - accuracy: 0.8363 - val_loss: 0.4143 - val_accuracy: 0.8275\n",
      "Epoch 17/50\n",
      "800/800 [==============================] - 1s 1ms/step - loss: 0.4041 - accuracy: 0.8367 - val_loss: 0.4144 - val_accuracy: 0.8275\n",
      "Epoch 18/50\n",
      "800/800 [==============================] - 1s 1ms/step - loss: 0.4032 - accuracy: 0.8367 - val_loss: 0.4134 - val_accuracy: 0.8275\n",
      "Epoch 19/50\n",
      "800/800 [==============================] - 1s 1ms/step - loss: 0.4031 - accuracy: 0.8364 - val_loss: 0.4115 - val_accuracy: 0.8280\n",
      "Epoch 20/50\n",
      "793/800 [============================>.] - ETA: 0s - loss: 0.4017 - accuracy: 0.8368\n",
      "Epoch 20: saving model to ./CheckPoints\\cp-0020.ckpt\n",
      "800/800 [==============================] - 1s 2ms/step - loss: 0.4025 - accuracy: 0.8364 - val_loss: 0.4142 - val_accuracy: 0.8255\n",
      "Epoch 21/50\n",
      "800/800 [==============================] - 1s 1ms/step - loss: 0.4025 - accuracy: 0.8381 - val_loss: 0.4122 - val_accuracy: 0.8275\n",
      "Epoch 22/50\n",
      "800/800 [==============================] - 1s 1ms/step - loss: 0.4021 - accuracy: 0.8359 - val_loss: 0.4130 - val_accuracy: 0.8295\n",
      "Epoch 23/50\n",
      "800/800 [==============================] - 1s 1ms/step - loss: 0.4015 - accuracy: 0.8370 - val_loss: 0.4101 - val_accuracy: 0.8265\n",
      "Epoch 24/50\n",
      "800/800 [==============================] - 1s 1ms/step - loss: 0.4010 - accuracy: 0.8351 - val_loss: 0.4128 - val_accuracy: 0.8265\n",
      "Epoch 25/50\n",
      "771/800 [===========================>..] - ETA: 0s - loss: 0.4025 - accuracy: 0.8358\n",
      "Epoch 25: saving model to ./CheckPoints\\cp-0025.ckpt\n",
      "800/800 [==============================] - 1s 2ms/step - loss: 0.4014 - accuracy: 0.8363 - val_loss: 0.4139 - val_accuracy: 0.8295\n",
      "Epoch 26/50\n",
      "800/800 [==============================] - 1s 1ms/step - loss: 0.4010 - accuracy: 0.8382 - val_loss: 0.4131 - val_accuracy: 0.8290\n",
      "Epoch 27/50\n",
      "800/800 [==============================] - 1s 2ms/step - loss: 0.4011 - accuracy: 0.8361 - val_loss: 0.4124 - val_accuracy: 0.8290\n",
      "Epoch 28/50\n",
      "800/800 [==============================] - 1s 1ms/step - loss: 0.4008 - accuracy: 0.8372 - val_loss: 0.4125 - val_accuracy: 0.8300\n",
      "Epoch 29/50\n",
      "800/800 [==============================] - 1s 1ms/step - loss: 0.4009 - accuracy: 0.8366 - val_loss: 0.4114 - val_accuracy: 0.8285\n",
      "Epoch 30/50\n",
      "774/800 [============================>.] - ETA: 0s - loss: 0.3995 - accuracy: 0.8350\n",
      "Epoch 30: saving model to ./CheckPoints\\cp-0030.ckpt\n",
      "800/800 [==============================] - 1s 2ms/step - loss: 0.4006 - accuracy: 0.8349 - val_loss: 0.4131 - val_accuracy: 0.8275\n",
      "Epoch 31/50\n",
      "800/800 [==============================] - 1s 1ms/step - loss: 0.4004 - accuracy: 0.8361 - val_loss: 0.4129 - val_accuracy: 0.8275\n",
      "Epoch 32/50\n",
      "800/800 [==============================] - 1s 1ms/step - loss: 0.4003 - accuracy: 0.8367 - val_loss: 0.4107 - val_accuracy: 0.8285\n",
      "Epoch 33/50\n",
      "800/800 [==============================] - 1s 1ms/step - loss: 0.3998 - accuracy: 0.8374 - val_loss: 0.4092 - val_accuracy: 0.8275\n",
      "Epoch 34/50\n",
      "800/800 [==============================] - 1s 1ms/step - loss: 0.4001 - accuracy: 0.8367 - val_loss: 0.4138 - val_accuracy: 0.8290\n",
      "Epoch 35/50\n",
      "762/800 [===========================>..] - ETA: 0s - loss: 0.3993 - accuracy: 0.8356\n",
      "Epoch 35: saving model to ./CheckPoints\\cp-0035.ckpt\n",
      "800/800 [==============================] - 1s 2ms/step - loss: 0.4002 - accuracy: 0.8355 - val_loss: 0.4101 - val_accuracy: 0.8280\n",
      "Epoch 36/50\n",
      "800/800 [==============================] - 1s 1ms/step - loss: 0.3997 - accuracy: 0.8378 - val_loss: 0.4092 - val_accuracy: 0.8295\n",
      "Epoch 37/50\n",
      "800/800 [==============================] - 1s 1ms/step - loss: 0.3996 - accuracy: 0.8370 - val_loss: 0.4095 - val_accuracy: 0.8295\n",
      "Epoch 38/50\n",
      "800/800 [==============================] - 1s 1ms/step - loss: 0.3994 - accuracy: 0.8366 - val_loss: 0.4138 - val_accuracy: 0.8290\n",
      "Epoch 39/50\n",
      "800/800 [==============================] - 1s 2ms/step - loss: 0.3997 - accuracy: 0.8371 - val_loss: 0.4105 - val_accuracy: 0.8285\n",
      "Epoch 40/50\n",
      "760/800 [===========================>..] - ETA: 0s - loss: 0.4004 - accuracy: 0.8359\n",
      "Epoch 40: saving model to ./CheckPoints\\cp-0040.ckpt\n",
      "800/800 [==============================] - 1s 2ms/step - loss: 0.3995 - accuracy: 0.8361 - val_loss: 0.4090 - val_accuracy: 0.8305\n",
      "Epoch 41/50\n",
      "800/800 [==============================] - 1s 1ms/step - loss: 0.3997 - accuracy: 0.8361 - val_loss: 0.4100 - val_accuracy: 0.8290\n",
      "Epoch 42/50\n",
      "800/800 [==============================] - 1s 1ms/step - loss: 0.3996 - accuracy: 0.8378 - val_loss: 0.4114 - val_accuracy: 0.8285\n",
      "Epoch 43/50\n",
      "800/800 [==============================] - 1s 1ms/step - loss: 0.3995 - accuracy: 0.8366 - val_loss: 0.4111 - val_accuracy: 0.8300\n",
      "Epoch 44/50\n",
      "800/800 [==============================] - 1s 1ms/step - loss: 0.3994 - accuracy: 0.8361 - val_loss: 0.4099 - val_accuracy: 0.8310\n",
      "Epoch 45/50\n",
      "788/800 [============================>.] - ETA: 0s - loss: 0.3984 - accuracy: 0.8381\n",
      "Epoch 45: saving model to ./CheckPoints\\cp-0045.ckpt\n",
      "800/800 [==============================] - 1s 2ms/step - loss: 0.3989 - accuracy: 0.8372 - val_loss: 0.4098 - val_accuracy: 0.8300\n",
      "Epoch 46/50\n",
      "800/800 [==============================] - 1s 1ms/step - loss: 0.3992 - accuracy: 0.8359 - val_loss: 0.4112 - val_accuracy: 0.8315\n",
      "Epoch 47/50\n",
      "800/800 [==============================] - 1s 1ms/step - loss: 0.3988 - accuracy: 0.8367 - val_loss: 0.4102 - val_accuracy: 0.8315\n",
      "Epoch 48/50\n",
      "800/800 [==============================] - 1s 1ms/step - loss: 0.3991 - accuracy: 0.8380 - val_loss: 0.4094 - val_accuracy: 0.8300\n",
      "Epoch 49/50\n",
      "800/800 [==============================] - 1s 1ms/step - loss: 0.3988 - accuracy: 0.8380 - val_loss: 0.4086 - val_accuracy: 0.8285\n",
      "Epoch 50/50\n",
      "788/800 [============================>.] - ETA: 0s - loss: 0.3978 - accuracy: 0.8372\n",
      "Epoch 50: saving model to ./CheckPoints\\cp-0050.ckpt\n",
      "800/800 [==============================] - 1s 2ms/step - loss: 0.3982 - accuracy: 0.8366 - val_loss: 0.4074 - val_accuracy: 0.8275\n"
     ]
    },
    {
     "data": {
      "text/plain": [
       "<keras.src.callbacks.History at 0x1b69cae5fa0>"
      ]
     },
     "execution_count": 120,
     "metadata": {},
     "output_type": "execute_result"
    }
   ],
   "source": [
    "\n",
    "# Si se quisiera conservar los pesos de cada resultado de entrenamiento, se procede a:\n",
    "# https://www.youtube.com/watch?v=DffrR2iEY2U\n",
    "\n",
    "checkpoint_path = \"./CheckPoints/cp-{epoch:04d}.ckpt\"\n",
    "\n",
    "cp_callback = keras.callbacks.ModelCheckpoint(\n",
    "    filepath= checkpoint_path,\n",
    "    verbose = 1,\n",
    "    save_weights_only = True,\n",
    "    period = 5                               )\n",
    "                                                \n",
    "# Cada 5 épocas graba los pesos\n",
    "# Verbose=0 (silent); Verbose=2 (one line per epoch)\n",
    "\n",
    "\n",
    "# crea un nuevo modelo y como se presenta en secuencial en líneas de código, se suele crear como clase o función, \n",
    "# para así retornar un único bloque editable y llamable (modelo configurado)\n",
    "# model = \n",
    "model = Sequential()\n",
    "model.add(Dense(units = 6, kernel_initializer = 'uniform', activation = 'relu', input_dim = 10))\n",
    "model.add(Dense(units = 6, kernel_initializer = 'uniform', activation = 'relu'))\n",
    "model.add(Dense(units = 1, kernel_initializer = 'uniform', activation = 'sigmoid'))\n",
    "model.compile(optimizer = 'adam', loss = 'binary_crossentropy', metrics = ['accuracy'])\n",
    "\n",
    "model.save_weights(checkpoint_path.format(epoch=0))\n",
    "\n",
    "# Entrena modelo  # poner  batch_size=10\n",
    "model.fit(X_train, y_train,epochs = 50, batch_size=10,\n",
    "            validation_data = (X_test, y_test), \n",
    "            callbacks = [cp_callback],   \n",
    "            verbose = 1)\n",
    "# este es con el nuevo cp_callback que ya viene configurado para el guardado\n",
    "# Se carga el archivo ckpt que contiene los pesos, por ende se cargan pesos\n",
    "\n",
    "# Si verbose > 0, el informe de logs es :\n",
    "\n",
    "# loss: valor de función de perdidas con datos de entrenamiento\n",
    "# acc: exactitud con datos entrenamiento\n",
    "\n",
    "# Si los datos de validation_data o validation_split no son vacíos se complementa con :\n",
    "\n",
    "# val_loss: valor función de perdidas con datos de validación\n",
    "# val_acc: exactitud con datos de validación\n"
   ]
  },
  {
   "cell_type": "code",
   "execution_count": 124,
   "metadata": {},
   "outputs": [
    {
     "name": "stdout",
     "output_type": "stream",
     "text": [
      "Model: \"sequential_8\"\n",
      "_________________________________________________________________\n",
      " Layer (type)                Output Shape              Param #   \n",
      "=================================================================\n",
      " dense_16 (Dense)            (None, 6)                 66        \n",
      "                                                                 \n",
      " dense_17 (Dense)            (None, 6)                 42        \n",
      "                                                                 \n",
      " dense_18 (Dense)            (None, 1)                 7         \n",
      "                                                                 \n",
      "=================================================================\n",
      "Total params: 115 (460.00 Byte)\n",
      "Trainable params: 115 (460.00 Byte)\n",
      "Non-trainable params: 0 (0.00 Byte)\n",
      "_________________________________________________________________\n"
     ]
    }
   ],
   "source": [
    "model.load_weights(\"./CheckPoints/cp-0025.ckpt\")\n",
    "model.summary()"
   ]
  },
  {
   "cell_type": "code",
   "execution_count": 125,
   "metadata": {},
   "outputs": [
    {
     "name": "stdout",
     "output_type": "stream",
     "text": [
      "Epoch 1/2\n",
      "800/800 [==============================] - 2s 1ms/step - loss: 0.4930 - accuracy: 0.7965\n",
      "Epoch 2/2\n",
      "800/800 [==============================] - 1s 1ms/step - loss: 0.4306 - accuracy: 0.7970\n",
      "63/63 - 0s - loss: 0.4325 - accuracy: 0.7935 - 147ms/epoch - 2ms/step\n",
      "Untrained model, accuracy: 79.35%\n",
      "63/63 - 0s - loss: 0.4074 - accuracy: 0.8275 - 152ms/epoch - 2ms/step\n",
      "Trained model, accuracy: 82.75%\n"
     ]
    }
   ],
   "source": [
    "model0 = Sequential()\n",
    "model0.add(Dense(units = 6, kernel_initializer = 'uniform', activation = 'relu', input_dim = 10))\n",
    "model0.add(Dense(units = 6, kernel_initializer = 'uniform', activation = 'relu'))\n",
    "model0.add(Dense(units = 1, kernel_initializer = 'uniform', activation = 'sigmoid'))\n",
    "model0.compile(optimizer = 'adam', loss = 'binary_crossentropy', metrics = ['accuracy'])\n",
    "\n",
    "model0.fit(X_train, y_train, batch_size = 10, epochs = 2)\n"
   ]
  },
  {
   "cell_type": "code",
   "execution_count": null,
   "metadata": {},
   "outputs": [],
   "source": [
    "# Evaluate the model0\n",
    "loss, acc = model0.evaluate(X_test, y_test, verbose=2)\n",
    "print(\"Untrained model, accuracy: {:5.2f}%\".format(100 * acc))\n",
    "\n",
    "# Evaluate the model ckpt 25\n",
    "loss, acc = model.evaluate(X_test, y_test, verbose=2)\n",
    "print(\"Trained model, accuracy: {:5.2f}%\".format(100 * acc))"
   ]
  },
  {
   "cell_type": "code",
   "execution_count": null,
   "metadata": {},
   "outputs": [],
   "source": [
    "\n",
    "# Otro recurso de guardado https://www.aprendemachinelearning.com/una-sencilla-red-neuronal-en-python-con-keras-y-tensorflow/\n",
    "\n",
    "# # serializar el modelo a JSON\n",
    "# model_json = model.to_json()\n",
    "# with open(\"model.json\", \"w\") as json_file:\n",
    "#     json_file.write(model_json)\n",
    "# # serializar los pesos a HDF5\n",
    "# model.save_weights(\"model.h5\")\n",
    "# print(\"Modelo Guardado!\")\n",
    " \n",
    " \n",
    "# # cargar json y crear el modelo\n",
    "# json_file = open('model.json', 'r')\n",
    "# loaded_model_json = json_file.read()\n",
    "# json_file.close()\n",
    "# loaded_model = model_from_json(loaded_model_json)\n",
    "# # cargar pesos al nuevo modelo\n",
    "# loaded_model.load_weights(\"model.h5\")\n",
    "# print(\"Cargado modelo desde disco.\")\n",
    " \n",
    "# # Compilar modelo cargado y listo para usar.\n",
    "# loaded_model.compile(loss='mean_squared_error', optimizer='adam', metrics=['binary_accuracy'])"
   ]
  },
  {
   "cell_type": "code",
   "execution_count": 126,
   "metadata": {},
   "outputs": [
    {
     "name": "stdout",
     "output_type": "stream",
     "text": [
      "dict_keys(['loss', 'accuracy', 'val_loss', 'val_accuracy'])\n"
     ]
    },
    {
     "data": {
      "image/png": "[encoded data removed]",
      "text/plain": [
       "<Figure size 640x480 with 1 Axes>"
      ]
     },
     "metadata": {},
     "output_type": "display_data"
    },
    {
     "data": {
      "image/png": "[encoded data removed]",
      "text/plain": [
       "<Figure size 640x480 with 1 Axes>"
      ]
     },
     "metadata": {},
     "output_type": "display_data"
    }
   ],
   "source": [
    "history = model.fit(X_train, y_train, validation_split=0.33, epochs=150, batch_size=10, verbose=0)\n",
    "\n",
    "# list all data in history\n",
    "print(history.history.keys())\n",
    "# summarize history for accuracy\n",
    "plt.plot(history.history['accuracy'])\n",
    "plt.plot(history.history['val_accuracy'])\n",
    "plt.title('model accuracy')\n",
    "plt.ylabel('accuracy')\n",
    "plt.xlabel('epoch')\n",
    "plt.legend(['train', 'test'], loc='upper left')\n",
    "plt.show()\n",
    "# summarize history for loss\n",
    "plt.plot(history.history['loss'])\n",
    "plt.plot(history.history['val_loss'])\n",
    "plt.title('model loss')\n",
    "plt.ylabel('loss')\n",
    "plt.xlabel('epoch')\n",
    "plt.legend(['train', 'test'], loc='upper left')\n",
    "plt.show()"
   ]
  },
  {
   "cell_type": "markdown",
   "metadata": {},
   "source": [
    "## Preprocesamiento de tuplas de características y clases\n"
   ]
  },
  {
   "cell_type": "code",
   "execution_count": 127,
   "metadata": {},
   "outputs": [],
   "source": [
    "#importing MultiLabelBinarizer\n",
    "import pandas as pd\n",
    "from sklearn.preprocessing import MultiLabelBinarizer\n"
   ]
  },
  {
   "cell_type": "code",
   "execution_count": 128,
   "metadata": {},
   "outputs": [
    {
     "data": {
      "text/html": [
       "<div>\n",
       "<style scoped>\n",
       "    .dataframe tbody tr th:only-of-type {\n",
       "        vertical-align: middle;\n",
       "    }\n",
       "\n",
       "    .dataframe tbody tr th {\n",
       "        vertical-align: top;\n",
       "    }\n",
       "\n",
       "    .dataframe thead th {\n",
       "        text-align: right;\n",
       "    }\n",
       "</style>\n",
       "<table border=\"1\" class=\"dataframe\">\n",
       "  <thead>\n",
       "    <tr style=\"text-align: right;\">\n",
       "      <th></th>\n",
       "      <th>genre</th>\n",
       "    </tr>\n",
       "  </thead>\n",
       "  <tbody>\n",
       "    <tr>\n",
       "      <th>0</th>\n",
       "      <td>[action, drama, fantasy]</td>\n",
       "    </tr>\n",
       "    <tr>\n",
       "      <th>1</th>\n",
       "      <td>[fantasy, action]</td>\n",
       "    </tr>\n",
       "    <tr>\n",
       "      <th>2</th>\n",
       "      <td>[drama]</td>\n",
       "    </tr>\n",
       "    <tr>\n",
       "      <th>3</th>\n",
       "      <td>[sci-fi, drama]</td>\n",
       "    </tr>\n",
       "  </tbody>\n",
       "</table>\n",
       "</div>"
      ],
      "text/plain": [
       "                      genre\n",
       "0  [action, drama, fantasy]\n",
       "1         [fantasy, action]\n",
       "2                   [drama]\n",
       "3           [sci-fi, drama]"
      ]
     },
     "execution_count": 128,
     "metadata": {},
     "output_type": "execute_result"
    }
   ],
   "source": [
    "df = pd.DataFrame({\"genre\": [[\"action\", \"drama\",\"fantasy\"], [\"fantasy\",\"action\"], [\"drama\"], [\"sci-fi\", \"drama\"]]})\n",
    "df"
   ]
  },
  {
   "cell_type": "code",
   "execution_count": 129,
   "metadata": {},
   "outputs": [],
   "source": [
    "#instantiating MultiLabelBinarizer\n",
    "mlb = MultiLabelBinarizer()\n",
    "df = pd.DataFrame(mlb.fit_transform(df['genre']),columns=mlb.classes_)"
   ]
  },
  {
   "cell_type": "code",
   "execution_count": 130,
   "metadata": {},
   "outputs": [
    {
     "data": {
      "text/html": [
       "<div>\n",
       "<style scoped>\n",
       "    .dataframe tbody tr th:only-of-type {\n",
       "        vertical-align: middle;\n",
       "    }\n",
       "\n",
       "    .dataframe tbody tr th {\n",
       "        vertical-align: top;\n",
       "    }\n",
       "\n",
       "    .dataframe thead th {\n",
       "        text-align: right;\n",
       "    }\n",
       "</style>\n",
       "<table border=\"1\" class=\"dataframe\">\n",
       "  <thead>\n",
       "    <tr style=\"text-align: right;\">\n",
       "      <th></th>\n",
       "      <th>action</th>\n",
       "      <th>drama</th>\n",
       "      <th>fantasy</th>\n",
       "      <th>sci-fi</th>\n",
       "    </tr>\n",
       "  </thead>\n",
       "  <tbody>\n",
       "    <tr>\n",
       "      <th>0</th>\n",
       "      <td>1</td>\n",
       "      <td>1</td>\n",
       "      <td>1</td>\n",
       "      <td>0</td>\n",
       "    </tr>\n",
       "    <tr>\n",
       "      <th>1</th>\n",
       "      <td>1</td>\n",
       "      <td>0</td>\n",
       "      <td>1</td>\n",
       "      <td>0</td>\n",
       "    </tr>\n",
       "    <tr>\n",
       "      <th>2</th>\n",
       "      <td>0</td>\n",
       "      <td>1</td>\n",
       "      <td>0</td>\n",
       "      <td>0</td>\n",
       "    </tr>\n",
       "    <tr>\n",
       "      <th>3</th>\n",
       "      <td>0</td>\n",
       "      <td>1</td>\n",
       "      <td>0</td>\n",
       "      <td>1</td>\n",
       "    </tr>\n",
       "  </tbody>\n",
       "</table>\n",
       "</div>"
      ],
      "text/plain": [
       "   action  drama  fantasy  sci-fi\n",
       "0       1      1        1       0\n",
       "1       1      0        1       0\n",
       "2       0      1        0       0\n",
       "3       0      1        0       1"
      ]
     },
     "execution_count": 130,
     "metadata": {},
     "output_type": "execute_result"
    }
   ],
   "source": [
    "df"
   ]
  },
  {
   "cell_type": "code",
   "execution_count": 131,
   "metadata": {},
   "outputs": [
    {
     "data": {
      "text/plain": [
       "array([[2.],\n",
       "       [0.],\n",
       "       [0.],\n",
       "       [1.]])"
      ]
     },
     "execution_count": 131,
     "metadata": {},
     "output_type": "execute_result"
    }
   ],
   "source": [
    "from sklearn.preprocessing import OrdinalEncoder\n",
    "encoder = OrdinalEncoder(categories=[[\"bad\", \"average\", \"good\"]]) # en este mismo orden genera los enteros bad=>0; average=>1; good=>2\n",
    "encoder.fit_transform([[\"good\"], [\"bad\"], [\"bad\"], [\"average\"]])\n",
    "# útil cuando se desea preservar una jerarquía en la transforamción, ya que el algoritmo de AA puede influenciarse \n",
    "# por el mayor valor asignado del valor de la característica, supongamos una transformación seguro 0 precausión 1 peligroso 3 \n"
   ]
  },
  {
   "cell_type": "code",
   "execution_count": 132,
   "metadata": {},
   "outputs": [
    {
     "data": {
      "text/html": [
       "<style>#sk-container-id-2 {color: black;}#sk-container-id-2 pre{padding: 0;}#sk-container-id-2 div.sk-toggleable {background-color: white;}#sk-container-id-2 label.sk-toggleable__label {cursor: pointer;display: block;width: 100%;margin-bottom: 0;padding: 0.3em;box-sizing: border-box;text-align: center;}#sk-container-id-2 label.sk-toggleable__label-arrow:before {content: \"▸\";float: left;margin-right: 0.25em;color: #696969;}#sk-container-id-2 label.sk-toggleable__label-arrow:hover:before {color: black;}#sk-container-id-2 div.sk-estimator:hover label.sk-toggleable__label-arrow:before {color: black;}#sk-container-id-2 div.sk-toggleable__content {max-height: 0;max-width: 0;overflow: hidden;text-align: left;background-color: #f0f8ff;}#sk-container-id-2 div.sk-toggleable__content pre {margin: 0.2em;color: black;border-radius: 0.25em;background-color: #f0f8ff;}#sk-container-id-2 input.sk-toggleable__control:checked~div.sk-toggleable__content {max-height: 200px;max-width: 100%;overflow: auto;}#sk-container-id-2 input.sk-toggleable__control:checked~label.sk-toggleable__label-arrow:before {content: \"▾\";}#sk-container-id-2 div.sk-estimator input.sk-toggleable__control:checked~label.sk-toggleable__label {background-color: #d4ebff;}#sk-container-id-2 div.sk-label input.sk-toggleable__control:checked~label.sk-toggleable__label {background-color: #d4ebff;}#sk-container-id-2 input.sk-hidden--visually {border: 0;clip: rect(1px 1px 1px 1px);clip: rect(1px, 1px, 1px, 1px);height: 1px;margin: -1px;overflow: hidden;padding: 0;position: absolute;width: 1px;}#sk-container-id-2 div.sk-estimator {font-family: monospace;background-color: #f0f8ff;border: 1px dotted black;border-radius: 0.25em;box-sizing: border-box;margin-bottom: 0.5em;}#sk-container-id-2 div.sk-estimator:hover {background-color: #d4ebff;}#sk-container-id-2 div.sk-parallel-item::after {content: \"\";width: 100%;border-bottom: 1px solid gray;flex-grow: 1;}#sk-container-id-2 div.sk-label:hover label.sk-toggleable__label {background-color: #d4ebff;}#sk-container-id-2 div.sk-serial::before {content: \"\";position: absolute;border-left: 1px solid gray;box-sizing: border-box;top: 0;bottom: 0;left: 50%;z-index: 0;}#sk-container-id-2 div.sk-serial {display: flex;flex-direction: column;align-items: center;background-color: white;padding-right: 0.2em;padding-left: 0.2em;position: relative;}#sk-container-id-2 div.sk-item {position: relative;z-index: 1;}#sk-container-id-2 div.sk-parallel {display: flex;align-items: stretch;justify-content: center;background-color: white;position: relative;}#sk-container-id-2 div.sk-item::before, #sk-container-id-2 div.sk-parallel-item::before {content: \"\";position: absolute;border-left: 1px solid gray;box-sizing: border-box;top: 0;bottom: 0;left: 50%;z-index: -1;}#sk-container-id-2 div.sk-parallel-item {display: flex;flex-direction: column;z-index: 1;position: relative;background-color: white;}#sk-container-id-2 div.sk-parallel-item:first-child::after {align-self: flex-end;width: 50%;}#sk-container-id-2 div.sk-parallel-item:last-child::after {align-self: flex-start;width: 50%;}#sk-container-id-2 div.sk-parallel-item:only-child::after {width: 0;}#sk-container-id-2 div.sk-dashed-wrapped {border: 1px dashed gray;margin: 0 0.4em 0.5em 0.4em;box-sizing: border-box;padding-bottom: 0.4em;background-color: white;}#sk-container-id-2 div.sk-label label {font-family: monospace;font-weight: bold;display: inline-block;line-height: 1.2em;}#sk-container-id-2 div.sk-label-container {text-align: center;}#sk-container-id-2 div.sk-container {/* jupyter's `normalize.less` sets `[hidden] { display: none; }` but bootstrap.min.css set `[hidden] { display: none !important; }` so we also need the `!important` here to be able to override the default hidden behavior on the sphinx rendered scikit-learn.org. See: https://github.com/scikit-learn/scikit-learn/issues/21755 */display: inline-block !important;position: relative;}#sk-container-id-2 div.sk-text-repr-fallback {display: none;}</style><div id=\"sk-container-id-2\" class=\"sk-top-container\"><div class=\"sk-text-repr-fallback\"><pre>OrdinalEncoder(categories=[[&#x27;bad&#x27;, &#x27;average&#x27;, &#x27;good&#x27;]])</pre><b>In a Jupyter environment, please rerun this cell to show the HTML representation or trust the notebook. <br />On GitHub, the HTML representation is unable to render, please try loading this page with nbviewer.org.</b></div><div class=\"sk-container\" hidden><div class=\"sk-item\"><div class=\"sk-estimator sk-toggleable\"><input class=\"sk-toggleable__control sk-hidden--visually\" id=\"sk-estimator-id-2\" type=\"checkbox\" checked><label for=\"sk-estimator-id-2\" class=\"sk-toggleable__label sk-toggleable__label-arrow\">OrdinalEncoder</label><div class=\"sk-toggleable__content\"><pre>OrdinalEncoder(categories=[[&#x27;bad&#x27;, &#x27;average&#x27;, &#x27;good&#x27;]])</pre></div></div></div></div></div>"
      ],
      "text/plain": [
       "OrdinalEncoder(categories=[['bad', 'average', 'good']])"
      ]
     },
     "execution_count": 132,
     "metadata": {},
     "output_type": "execute_result"
    }
   ],
   "source": [
    "encoder"
   ]
  },
  {
   "cell_type": "code",
   "execution_count": null,
   "metadata": {},
   "outputs": [],
   "source": []
  }
 ],
 "metadata": {
  "kernelspec": {
   "display_name": "Python 3.8.3 ('ds')",
   "language": "python",
   "name": "python3"
  },
  "language_info": {
   "codemirror_mode": {
    "name": "ipython",
    "version": 3
   },
   "file_extension": ".py",
   "mimetype": "text/x-python",
   "name": "python",
   "nbconvert_exporter": "python",
   "pygments_lexer": "ipython3",
   "version": "3.9.13"
  },
  "latex_metadata": {
   "author": "Andreas C. M\\\"ller",
   "title": "Machine Learning with Python"
  },
  "vscode": {
   "interpreter": {
    "hash": "539a9d4d03639544c5ff6bb48a7584435c9da3e8da5db993344dcdb4102fc1b4"
   }
  }
 },
 "nbformat": 4,
 "nbformat_minor": 1
}
